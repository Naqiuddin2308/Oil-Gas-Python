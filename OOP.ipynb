{
 "cells": [
  {
   "cell_type": "markdown",
   "id": "harmful-contrary",
   "metadata": {},
   "source": [
    "# Part 1"
   ]
  },
  {
   "cell_type": "code",
   "execution_count": 75,
   "id": "revolutionary-empire",
   "metadata": {},
   "outputs": [],
   "source": [
    "# concept of OOP is in many popular languages. But syntax differsin each language\n",
    "# It does not increase any functionality. OOP is just a style of writing easy and managable code.\n",
    "# uses the concept of class, object and method \n",
    "# python is an Object Oriented Programming (OOP) language"
   ]
  },
  {
   "cell_type": "code",
   "execution_count": 76,
   "id": "worth-detroit",
   "metadata": {},
   "outputs": [],
   "source": [
    "# class and object(instance), method --> three words you'll hear more now\n",
    "# example"
   ]
  },
  {
   "cell_type": "code",
   "execution_count": 77,
   "id": "general-myanmar",
   "metadata": {},
   "outputs": [],
   "source": [
    "flow_rate = [300, 150, 200, 1000] #bbl/day\n",
    "alphabets = ['a', 'b', 'c', 'd'] # string \n",
    "mix = [14, 59, 'python', 80.87] # random\n",
    "list_1 = []\n",
    "# all above are different objects but all belong to same class i.e. list \n",
    "# example: Cricket match is a class. Test match, ODI and T20 matches are objects of my class Cricket"
   ]
  },
  {
   "cell_type": "code",
   "execution_count": 78,
   "id": "negative-intelligence",
   "metadata": {},
   "outputs": [
    {
     "name": "stdout",
     "output_type": "stream",
     "text": [
      "[300, 150, 200, 1000, 450]\n"
     ]
    }
   ],
   "source": [
    "# method \n",
    "flow_rate.append(450)\n",
    "print(flow_rate)"
   ]
  },
  {
   "cell_type": "markdown",
   "id": "planned-consultancy",
   "metadata": {},
   "source": [
    "# Part 2"
   ]
  },
  {
   "cell_type": "markdown",
   "id": "urban-seminar",
   "metadata": {},
   "source": [
    "Create your own class and objects"
   ]
  },
  {
   "cell_type": "code",
   "execution_count": 79,
   "id": "boolean-ribbon",
   "metadata": {},
   "outputs": [],
   "source": [
    "# STEP 1\n",
    "# You always use class keyword and then name of class with first letter capital\n",
    "# STEP 2\n",
    "# then define a special method -> init method or constructor. SYNTAX - __init__(self, attr1, attr2, .....)\n",
    "# self is the representation of the object\n",
    "# STEP 3\n",
    "# Create instance variables \n",
    "# self.instance_variable1 = attr1\n",
    "# self.instance_variable2 = attr2\n",
    "# self.instance_variable3 = attr3"
   ]
  },
  {
   "cell_type": "code",
   "execution_count": 80,
   "id": "established-insulin",
   "metadata": {},
   "outputs": [],
   "source": [
    "class Reservoir:\n",
    "    def __init__(self, por, perm, depth):\n",
    "        \n",
    "        self.porosity = por\n",
    "        self.permeability = perm\n",
    "        self.reservoir_depth = depth"
   ]
  },
  {
   "cell_type": "code",
   "execution_count": 81,
   "id": "further-catalog",
   "metadata": {},
   "outputs": [],
   "source": [
    "# Objects\n",
    "\n",
    "res_a = Reservoir(0.13, 35, 4000)\n",
    "res_b = Reservoir(0.20, 40, 3650)"
   ]
  },
  {
   "cell_type": "code",
   "execution_count": 82,
   "id": "associate-smart",
   "metadata": {},
   "outputs": [
    {
     "data": {
      "text/plain": [
       "4000"
      ]
     },
     "execution_count": 82,
     "metadata": {},
     "output_type": "execute_result"
    }
   ],
   "source": [
    "res_a.reservoir_depth"
   ]
  },
  {
   "cell_type": "code",
   "execution_count": 83,
   "id": "continent-audit",
   "metadata": {},
   "outputs": [
    {
     "data": {
      "text/plain": [
       "3650"
      ]
     },
     "execution_count": 83,
     "metadata": {},
     "output_type": "execute_result"
    }
   ],
   "source": [
    "res_b.reservoir_depth"
   ]
  },
  {
   "cell_type": "code",
   "execution_count": 84,
   "id": "extended-intention",
   "metadata": {},
   "outputs": [],
   "source": [
    "# look at this explanation now \n",
    "# whenever we call the class, first thing happens in __init__ method (constructor) get called\n",
    "# (to prove this we can add any statement just after the __init__ method)\n",
    "# self represents our object. MEANS __init__ takes always first input of self. So our object name doesn't matter here\n",
    "# self.porosity means object.porosity which will give the porosity of our object\n",
    "# self represents object1 and also object 2 and all other objects as well \n",
    "# You can use any other term as well in place of self. But prefereed is self "
   ]
  },
  {
   "cell_type": "markdown",
   "id": "killing-coordinate",
   "metadata": {},
   "source": [
    "## Assignment 19"
   ]
  },
  {
   "cell_type": "code",
   "execution_count": 85,
   "id": "magnetic-discussion",
   "metadata": {},
   "outputs": [],
   "source": [
    "# create a class 'Well' with attributes like completion type, no. of zones, depth of well \n",
    "# create three instances (objects) of your class 'Well'"
   ]
  },
  {
   "cell_type": "code",
   "execution_count": 86,
   "id": "brief-taste",
   "metadata": {},
   "outputs": [],
   "source": [
    "class Well:\n",
    "    def __init__(self, comp_type, zones, depth):\n",
    "        self.type_of_comp = comp_type\n",
    "        self.zones = zones\n",
    "        self.depth = depth"
   ]
  },
  {
   "cell_type": "code",
   "execution_count": 87,
   "id": "deadly-memphis",
   "metadata": {},
   "outputs": [],
   "source": [
    "well_A = Well('Cased Well', 3, 2500)\n",
    "well_B = Well('Open Hole', 2, 1200)"
   ]
  },
  {
   "cell_type": "code",
   "execution_count": 88,
   "id": "cardiac-wholesale",
   "metadata": {},
   "outputs": [
    {
     "data": {
      "text/plain": [
       "'Cased Well'"
      ]
     },
     "execution_count": 88,
     "metadata": {},
     "output_type": "execute_result"
    }
   ],
   "source": [
    "well_A.type_of_comp"
   ]
  },
  {
   "cell_type": "code",
   "execution_count": 89,
   "id": "paperback-resource",
   "metadata": {},
   "outputs": [
    {
     "data": {
      "text/plain": [
       "1200"
      ]
     },
     "execution_count": 89,
     "metadata": {},
     "output_type": "execute_result"
    }
   ],
   "source": [
    "well_B.depth"
   ]
  },
  {
   "cell_type": "markdown",
   "id": "limited-person",
   "metadata": {},
   "source": [
    "# Part 3"
   ]
  },
  {
   "cell_type": "markdown",
   "id": "undefined-daniel",
   "metadata": {},
   "source": [
    "Instance methods (Object methods)"
   ]
  },
  {
   "cell_type": "code",
   "execution_count": 90,
   "id": "naked-cargo",
   "metadata": {},
   "outputs": [
    {
     "data": {
      "text/plain": [
       "[1, 2, 3, 4]"
      ]
     },
     "execution_count": 90,
     "metadata": {},
     "output_type": "execute_result"
    }
   ],
   "source": [
    "# see some method of existing class\n",
    "l = [1,2,3,4,5]\n",
    "l.pop()\n",
    "l"
   ]
  },
  {
   "cell_type": "code",
   "execution_count": 91,
   "id": "confident-fault",
   "metadata": {},
   "outputs": [
    {
     "data": {
      "text/plain": [
       "[1, 2, 3, 4, 'oil']"
      ]
     },
     "execution_count": 91,
     "metadata": {},
     "output_type": "execute_result"
    }
   ],
   "source": [
    "l.append('oil')\n",
    "l"
   ]
  },
  {
   "cell_type": "code",
   "execution_count": 92,
   "id": "every-tourism",
   "metadata": {},
   "outputs": [],
   "source": [
    "class Reservoir:\n",
    "    def __init__(self, por, perm, depth):\n",
    "        \n",
    "        self.porosity = por\n",
    "        self.permeability = perm\n",
    "        self.reservoir_depth = depth"
   ]
  },
  {
   "cell_type": "code",
   "execution_count": 93,
   "id": "hundred-worst",
   "metadata": {},
   "outputs": [],
   "source": [
    "res_a = Reservoir(0.41, 50, 3200)"
   ]
  },
  {
   "cell_type": "code",
   "execution_count": 94,
   "id": "intermediate-asset",
   "metadata": {},
   "outputs": [],
   "source": [
    "# now I want to create a method for my class which describes the properties of reservoir in a nice manner \n",
    "\n",
    "class Reservoir_2:\n",
    "    def __init__(self, por, perm, depth):\n",
    "        \n",
    "        self.porosity = por\n",
    "        self.permeability = perm\n",
    "        self.reservoir_depth = depth\n",
    "        \n",
    "    def describe(self):\n",
    "        print(f'Porosity of this reservoir is {self.porosity*100}%. \\nThe permeability is {self.permeability} md. \\nThis reservoir is located at the depth of {self.reservoir_depth}')"
   ]
  },
  {
   "cell_type": "code",
   "execution_count": 95,
   "id": "bright-mercury",
   "metadata": {},
   "outputs": [],
   "source": [
    "res_a = Reservoir(0.41, 50, 3200)\n",
    "\n",
    "res_b = Reservoir_2(0.25, 50, 3020)"
   ]
  },
  {
   "cell_type": "code",
   "execution_count": 96,
   "id": "abandoned-instrument",
   "metadata": {},
   "outputs": [
    {
     "data": {
      "text/plain": [
       "0.41"
      ]
     },
     "execution_count": 96,
     "metadata": {},
     "output_type": "execute_result"
    }
   ],
   "source": [
    "res_a.porosity"
   ]
  },
  {
   "cell_type": "code",
   "execution_count": 97,
   "id": "private-forty",
   "metadata": {},
   "outputs": [
    {
     "name": "stdout",
     "output_type": "stream",
     "text": [
      "Porosity of this reservoir is 25.0%. \n",
      "The permeability is 50 md. \n",
      "This reservoir is located at the depth of 3020\n"
     ]
    }
   ],
   "source": [
    "res_b.describe()"
   ]
  },
  {
   "cell_type": "code",
   "execution_count": 98,
   "id": "bigger-oliver",
   "metadata": {},
   "outputs": [
    {
     "name": "stdout",
     "output_type": "stream",
     "text": [
      "Porosity of this reservoir is 20.0%. \n",
      "The permeability is 89 md. \n",
      "This reservoir is located at the depth of 2500\n"
     ]
    }
   ],
   "source": [
    "res_c = Reservoir_2(0.2, 89, 2500)\n",
    "res_c.describe()"
   ]
  },
  {
   "cell_type": "markdown",
   "id": "dominant-prairie",
   "metadata": {},
   "source": [
    "## IMPORTANT POINTS"
   ]
  },
  {
   "cell_type": "code",
   "execution_count": 99,
   "id": "terminal-stable",
   "metadata": {},
   "outputs": [],
   "source": [
    "# how this works in reality\n",
    "# class_name.method_name(object_name)"
   ]
  },
  {
   "cell_type": "code",
   "execution_count": 100,
   "id": "medical-playing",
   "metadata": {},
   "outputs": [
    {
     "name": "stdout",
     "output_type": "stream",
     "text": [
      "Porosity of this reservoir is 20.0%. \n",
      "The permeability is 89 md. \n",
      "This reservoir is located at the depth of 2500\n"
     ]
    }
   ],
   "source": [
    "Reservoir_2.describe(res_c)"
   ]
  },
  {
   "cell_type": "code",
   "execution_count": 101,
   "id": "closed-hudson",
   "metadata": {},
   "outputs": [
    {
     "data": {
      "text/plain": [
       "[1, 2, 3, 4]"
      ]
     },
     "execution_count": 101,
     "metadata": {},
     "output_type": "execute_result"
    }
   ],
   "source": [
    "# Similar case\n",
    "new_list = [1,2,3,4,5]\n",
    "new_list.pop()\n",
    "new_list"
   ]
  },
  {
   "cell_type": "code",
   "execution_count": 102,
   "id": "egyptian-clause",
   "metadata": {},
   "outputs": [
    {
     "data": {
      "text/plain": [
       "[1, 2, 3]"
      ]
     },
     "execution_count": 102,
     "metadata": {},
     "output_type": "execute_result"
    }
   ],
   "source": [
    "# Another method\n",
    "# class_name.method_name(object_name)\n",
    "list.pop(new_list)\n",
    "new_list"
   ]
  },
  {
   "cell_type": "code",
   "execution_count": 103,
   "id": "oriented-drama",
   "metadata": {},
   "outputs": [
    {
     "data": {
      "text/plain": [
       "[1, 2, 3, '10']"
      ]
     },
     "execution_count": 103,
     "metadata": {},
     "output_type": "execute_result"
    }
   ],
   "source": [
    "list.append(new_list, '10')\n",
    "new_list"
   ]
  },
  {
   "cell_type": "markdown",
   "id": "soviet-acceptance",
   "metadata": {},
   "source": [
    "## Assignment 20"
   ]
  },
  {
   "cell_type": "code",
   "execution_count": 104,
   "id": "monetary-absolute",
   "metadata": {},
   "outputs": [],
   "source": [
    "# create a class Scores with attributes scores of diff subjects \n",
    "# create a method which calculates the averagae of all the subject's scores\n",
    "# create another method which gives you max score out of three "
   ]
  },
  {
   "cell_type": "code",
   "execution_count": 105,
   "id": "amino-paste",
   "metadata": {},
   "outputs": [],
   "source": [
    "import math\n",
    "import numpy as np\n",
    "from statistics import mean"
   ]
  },
  {
   "cell_type": "code",
   "execution_count": 106,
   "id": "proper-description",
   "metadata": {},
   "outputs": [
    {
     "data": {
      "text/plain": [
       "20.0"
      ]
     },
     "execution_count": 106,
     "metadata": {},
     "output_type": "execute_result"
    }
   ],
   "source": [
    "l = [10, 20, 30]\n",
    "np.mean(l)"
   ]
  },
  {
   "cell_type": "code",
   "execution_count": 107,
   "id": "wooden-warrant",
   "metadata": {},
   "outputs": [],
   "source": [
    "class Scores:\n",
    "    def __init__(self, res, drill, prod):\n",
    "        self.reservoir_score = res\n",
    "        self.drilling_score = drill\n",
    "        self.production_score = prod\n",
    "    def avg(self):\n",
    "        return (self.reservoir_score + self.drilling_score + self.production_score) / 3\n",
    "    def maximum(self):\n",
    "        return max(self.reservoir_score, self.drilling_score, self.production_score)"
   ]
  },
  {
   "cell_type": "code",
   "execution_count": 108,
   "id": "normal-business",
   "metadata": {},
   "outputs": [],
   "source": [
    "student_1 = Scores(75, 80, 90)\n",
    "student_2 = Scores(50, 62, 75)"
   ]
  },
  {
   "cell_type": "code",
   "execution_count": 109,
   "id": "expired-boost",
   "metadata": {},
   "outputs": [
    {
     "name": "stdout",
     "output_type": "stream",
     "text": [
      "81.66666666666667\n",
      "90\n"
     ]
    }
   ],
   "source": [
    "print(student_1.avg())\n",
    "print(student_1.maximum())"
   ]
  },
  {
   "cell_type": "code",
   "execution_count": 110,
   "id": "visible-cheat",
   "metadata": {},
   "outputs": [
    {
     "name": "stdout",
     "output_type": "stream",
     "text": [
      "62.333333333333336\n",
      "75\n"
     ]
    }
   ],
   "source": [
    "print(student_2.avg())\n",
    "print(student_2.maximum())"
   ]
  },
  {
   "cell_type": "markdown",
   "id": "present-syndrome",
   "metadata": {},
   "source": [
    "# Part 4"
   ]
  },
  {
   "cell_type": "markdown",
   "id": "bibliographic-summit",
   "metadata": {},
   "source": [
    "Class Variable"
   ]
  },
  {
   "cell_type": "code",
   "execution_count": 111,
   "id": "czech-closing",
   "metadata": {},
   "outputs": [],
   "source": [
    "class Circle:\n",
    "    \n",
    "    def __init__(self, pi, r):\n",
    "        \n",
    "        self.pi = pi\n",
    "        self.radius = r\n",
    "    \n",
    "    def area(self):\n",
    "        return self.pi*(self.radius)**2\n",
    "    \n",
    "    def circum(self):\n",
    "        return 2*self.pi*self.radius"
   ]
  },
  {
   "cell_type": "code",
   "execution_count": 112,
   "id": "separate-modification",
   "metadata": {},
   "outputs": [],
   "source": [
    "c1 = Circle(3.14, 5)\n",
    "c2 = Circle(3.14, 3)"
   ]
  },
  {
   "cell_type": "code",
   "execution_count": 113,
   "id": "finished-physiology",
   "metadata": {},
   "outputs": [
    {
     "name": "stdout",
     "output_type": "stream",
     "text": [
      "78.5\n",
      "31.400000000000002\n"
     ]
    }
   ],
   "source": [
    "print(c1.area())\n",
    "print(c1.circum())"
   ]
  },
  {
   "cell_type": "code",
   "execution_count": 114,
   "id": "contemporary-gnome",
   "metadata": {},
   "outputs": [
    {
     "name": "stdout",
     "output_type": "stream",
     "text": [
      "28.26\n",
      "18.84\n"
     ]
    }
   ],
   "source": [
    "print(c2.area())\n",
    "print(c2.circum())"
   ]
  },
  {
   "cell_type": "code",
   "execution_count": 115,
   "id": "august-personality",
   "metadata": {},
   "outputs": [],
   "source": [
    "# class variable is that variable inside class which have a common value for all the objects representing that particular class\n",
    "\n",
    "class Circle_2:\n",
    "    \n",
    "    pi = 3.14 # Class variable or attribute\n",
    "    \n",
    "    def __init__(self, r):\n",
    "    \n",
    "        self.radius = r\n",
    "    \n",
    "    def area(self):\n",
    "        return Circle_2.pi*(self.radius)**2\n",
    "    \n",
    "    def circum(self):\n",
    "        return 2*Circle_2.pi*self.radius"
   ]
  },
  {
   "cell_type": "code",
   "execution_count": 116,
   "id": "authentic-checkout",
   "metadata": {},
   "outputs": [],
   "source": [
    "c3 = Circle_2(5)\n",
    "c4 = Circle_2(3)"
   ]
  },
  {
   "cell_type": "code",
   "execution_count": 117,
   "id": "assisted-irrigation",
   "metadata": {},
   "outputs": [
    {
     "name": "stdout",
     "output_type": "stream",
     "text": [
      "78.5\n",
      "31.400000000000002\n"
     ]
    }
   ],
   "source": [
    "print(c3.area())\n",
    "print(c3.circum())"
   ]
  },
  {
   "cell_type": "code",
   "execution_count": 118,
   "id": "pregnant-paragraph",
   "metadata": {},
   "outputs": [
    {
     "name": "stdout",
     "output_type": "stream",
     "text": [
      "28.26\n",
      "18.84\n"
     ]
    }
   ],
   "source": [
    "print(c4.area())\n",
    "print(c4.circum())"
   ]
  },
  {
   "cell_type": "code",
   "execution_count": 119,
   "id": "experimental-pursuit",
   "metadata": {},
   "outputs": [],
   "source": [
    "# let's use this example \n",
    "# we have different wells with different attributes \n",
    "# let's say we want to create a method which calculates pressure at given well depth\n",
    "# one more thing. We want to calculate pressures using same mud. \n",
    "# mud is same so we need not separately require attribute insisde __init__\n",
    "# we can make a class variable "
   ]
  },
  {
   "cell_type": "code",
   "execution_count": 120,
   "id": "received-japanese",
   "metadata": {},
   "outputs": [],
   "source": [
    "class Well:\n",
    "    \n",
    "    mud_weight = 12 # ppg (Class Variable or Attribute)\n",
    "    \n",
    "    def __init__(self, comp_type, zones, tvd):\n",
    "        \n",
    "        self.comp_type = comp_type\n",
    "        self.zones = zones\n",
    "        self.tvd = tvd\n",
    "    \n",
    "    def pres_calc(self):\n",
    "        return 0.052*Well.mud_weight*(self.tvd)"
   ]
  },
  {
   "cell_type": "code",
   "execution_count": 121,
   "id": "distributed-purse",
   "metadata": {},
   "outputs": [
    {
     "data": {
      "text/plain": [
       "1560.0"
      ]
     },
     "execution_count": 121,
     "metadata": {},
     "output_type": "execute_result"
    }
   ],
   "source": [
    "well_A = Well('Open', 1, 2500)\n",
    "well_A.pres_calc()"
   ]
  },
  {
   "cell_type": "code",
   "execution_count": 122,
   "id": "indonesian-quantity",
   "metadata": {},
   "outputs": [
    {
     "data": {
      "text/plain": [
       "{'comp_type': 'Open', 'zones': 1, 'tvd': 2500}"
      ]
     },
     "execution_count": 122,
     "metadata": {},
     "output_type": "execute_result"
    }
   ],
   "source": [
    "well_A.__dict__"
   ]
  },
  {
   "cell_type": "markdown",
   "id": "frozen-greene",
   "metadata": {},
   "source": [
    "# Part 5: Encapsulation"
   ]
  },
  {
   "cell_type": "markdown",
   "id": "consecutive-austria",
   "metadata": {},
   "source": [
    "Encapsulation & Abstraction"
   ]
  },
  {
   "cell_type": "code",
   "execution_count": 123,
   "id": "twelve-bulgarian",
   "metadata": {},
   "outputs": [],
   "source": [
    "# ENCAPSULATION\n",
    "# It just means all the data and all methods to be used with data are at one place\n",
    "\n",
    "class Scores:\n",
    "    \n",
    "    def __init__(self, res_score, drill_score, prod_score):# instance variables\n",
    "        self.score_reservoir = res_score\n",
    "        self.score_drilling = drill_score\n",
    "        self.score_production = prod_score\n",
    "        \n",
    "    def avg(self):\n",
    "        return {(self.score_reservoir + self.score_drilling + self.score_production)/3}\n",
    "    \n",
    "    def maximum(self):\n",
    "        return max(self.score_reservoir, self.score_drilling, self.score_production)\n",
    "    \n",
    "# this is an example of encapsulation only. All the required things are at a single place. Encapsulated"
   ]
  },
  {
   "cell_type": "code",
   "execution_count": 124,
   "id": "elementary-healthcare",
   "metadata": {},
   "outputs": [
    {
     "name": "stdout",
     "output_type": "stream",
     "text": [
      "[0.1, 0.4, 0.35, 0.29, 0.25]\n"
     ]
    }
   ],
   "source": [
    "# Abstraction\n",
    "# ABSTRACTION MEANS HIDING THE COMPLEXITY OF CODE FROM USER \n",
    "por = [0.1, 0.4, 0.35, 0.29]\n",
    "# lets say we want to append a new porosity value\n",
    "por.append(0.25)\n",
    "print(por)"
   ]
  },
  {
   "cell_type": "code",
   "execution_count": 125,
   "id": "medical-wheat",
   "metadata": {},
   "outputs": [],
   "source": [
    "# Encapsulation and Abstraction are two fundamentals of OOP"
   ]
  },
  {
   "cell_type": "markdown",
   "id": "congressional-globe",
   "metadata": {},
   "source": [
    "Private and public methods/variables"
   ]
  },
  {
   "cell_type": "code",
   "execution_count": 126,
   "id": "social-friend",
   "metadata": {},
   "outputs": [],
   "source": [
    "# in many programming languages for example java and c++ there are some private methods and variables and some are public\n",
    "# BUT IN PYTHON NOTHING IS PRIVATE. EVERYTHING IS PUBLIC\n",
    "# but sometimes we give our code to someone else. We want them to not change certain things \n",
    "# we can use _name instead of name to let them know that this is private to me, please don't change it\n",
    "# This is just a convention not a rule.\n",
    "# for ex: this was our original code\n",
    "\n",
    "class Well:\n",
    "    \n",
    "    mud_weight = 11.2 # ppg (Class Variable or Attribute)\n",
    "    \n",
    "    def __init__(self, comp_type, zones, tvd):\n",
    "        \n",
    "        self.comp_type = comp_type\n",
    "        self.zones = zones\n",
    "        self.tvd = tvd\n",
    "    \n",
    "    def pres_calc(self):\n",
    "        return 0.052*Well.mud_weight*(self.tvd)"
   ]
  },
  {
   "cell_type": "code",
   "execution_count": 127,
   "id": "departmental-landscape",
   "metadata": {},
   "outputs": [
    {
     "data": {
      "text/plain": [
       "1747.1999999999998"
      ]
     },
     "execution_count": 127,
     "metadata": {},
     "output_type": "execute_result"
    }
   ],
   "source": [
    "well_A = Well('Open Hole', 1, 3000)\n",
    "well_A.comp_type\n",
    "well_A.pres_calc()"
   ]
  },
  {
   "cell_type": "code",
   "execution_count": 128,
   "id": "insured-excess",
   "metadata": {},
   "outputs": [],
   "source": [
    "# to hint them private property:\n",
    "\n",
    "class Well_2:\n",
    "    \n",
    "    mud_weight = 11.2 # ppg (Class Variable or Attribute)\n",
    "    \n",
    "    def __init__(self, comp_type, zones, tvd):\n",
    "        \n",
    "        self._comp_type = comp_type # just to indicate to treat this as a private property\n",
    "        self.zones = zones\n",
    "        self.tvd = tvd\n",
    "    \n",
    "    def pres_calc(self):\n",
    "        return 0.052*Well.mud_weight*(self.tvd)"
   ]
  },
  {
   "cell_type": "code",
   "execution_count": 129,
   "id": "utility-rochester",
   "metadata": {},
   "outputs": [],
   "source": [
    "well_B = Well_2('Cased Hole', 2, 4000)"
   ]
  },
  {
   "cell_type": "code",
   "execution_count": 130,
   "id": "deadly-citation",
   "metadata": {},
   "outputs": [
    {
     "data": {
      "text/plain": [
       "'Cased Hole'"
      ]
     },
     "execution_count": 130,
     "metadata": {},
     "output_type": "execute_result"
    }
   ],
   "source": [
    "well_B._comp_type"
   ]
  },
  {
   "cell_type": "code",
   "execution_count": 131,
   "id": "vanilla-adaptation",
   "metadata": {},
   "outputs": [
    {
     "data": {
      "text/plain": [
       "2329.5999999999995"
      ]
     },
     "execution_count": 131,
     "metadata": {},
     "output_type": "execute_result"
    }
   ],
   "source": [
    "well_B.pres_calc()"
   ]
  },
  {
   "cell_type": "markdown",
   "id": "announced-pressure",
   "metadata": {},
   "source": [
    "# Part 6"
   ]
  },
  {
   "cell_type": "markdown",
   "id": "descending-cartoon",
   "metadata": {},
   "source": [
    "Name Mangling (__name) ->> This is not a convention"
   ]
  },
  {
   "cell_type": "code",
   "execution_count": 132,
   "id": "royal-momentum",
   "metadata": {},
   "outputs": [],
   "source": [
    "# New class\n",
    "class Well_3:\n",
    "    \n",
    "    mud_weight = 11.2 # ppg (Class Variable or Attribute)\n",
    "    \n",
    "    def __init__(self, comp_type, zones, tvd):\n",
    "        \n",
    "        self._comp_type = comp_type # just to indicate to treat this as a private property\n",
    "        self.zones = zones\n",
    "        self.tvd = tvd\n",
    "    \n",
    "    def pres_calc(self):\n",
    "        return 0.052*Well.mud_weight*(self.tvd)"
   ]
  },
  {
   "cell_type": "code",
   "execution_count": 133,
   "id": "regional-closing",
   "metadata": {},
   "outputs": [],
   "source": [
    "well_C = Well_3('Cased Holed', 3, 3520)"
   ]
  },
  {
   "cell_type": "code",
   "execution_count": 134,
   "id": "designing-effects",
   "metadata": {},
   "outputs": [
    {
     "data": {
      "text/plain": [
       "'Cased Holed'"
      ]
     },
     "execution_count": 134,
     "metadata": {},
     "output_type": "execute_result"
    }
   ],
   "source": [
    "well_C._comp_type"
   ]
  },
  {
   "cell_type": "code",
   "execution_count": 135,
   "id": "careful-joining",
   "metadata": {},
   "outputs": [],
   "source": [
    "well_C._comp_type = 'Slotted Liner'"
   ]
  },
  {
   "cell_type": "code",
   "execution_count": 136,
   "id": "civilian-reason",
   "metadata": {},
   "outputs": [
    {
     "data": {
      "text/plain": [
       "'Slotted Liner'"
      ]
     },
     "execution_count": 136,
     "metadata": {},
     "output_type": "execute_result"
    }
   ],
   "source": [
    "well_C._comp_type"
   ]
  },
  {
   "cell_type": "code",
   "execution_count": 137,
   "id": "built-registration",
   "metadata": {},
   "outputs": [],
   "source": [
    "well_D = Well_3('Slotted Liner', 2, 4021)"
   ]
  },
  {
   "cell_type": "code",
   "execution_count": 138,
   "id": "logical-arlington",
   "metadata": {},
   "outputs": [
    {
     "data": {
      "text/plain": [
       "'Slotted Liner'"
      ]
     },
     "execution_count": 138,
     "metadata": {},
     "output_type": "execute_result"
    }
   ],
   "source": [
    "well_D._comp_type"
   ]
  },
  {
   "cell_type": "markdown",
   "id": "amended-cleaning",
   "metadata": {},
   "source": [
    "# Inheritance-Part 1"
   ]
  },
  {
   "cell_type": "code",
   "execution_count": 151,
   "id": "thirty-alfred",
   "metadata": {},
   "outputs": [],
   "source": [
    "class Reservoir:\n",
    "    def __init__(self, av_poro, av_perm, location):\n",
    "        self.porosity = av_poro\n",
    "        self.permeability = av_perm\n",
    "        self.location = location\n",
    "        \n",
    "    def describe(self):\n",
    "        print(f'Porosity: {self.porosity} and Permeability: {self.permeability}')\n",
    "        \n",
    "    def situated(self):\n",
    "        print(f'This reservoir is located in {self.location}.')"
   ]
  },
  {
   "cell_type": "code",
   "execution_count": 152,
   "id": "hourly-bowling",
   "metadata": {},
   "outputs": [],
   "source": [
    "res_A = Reservoir(0.25, 70, 'Malaysia')"
   ]
  },
  {
   "cell_type": "code",
   "execution_count": 153,
   "id": "adequate-findings",
   "metadata": {},
   "outputs": [
    {
     "name": "stdout",
     "output_type": "stream",
     "text": [
      "Porosity: 0.25 and Permeability: 70\n"
     ]
    }
   ],
   "source": [
    "res_A.describe()"
   ]
  },
  {
   "cell_type": "code",
   "execution_count": 154,
   "id": "generous-permit",
   "metadata": {},
   "outputs": [
    {
     "name": "stdout",
     "output_type": "stream",
     "text": [
      "This reservoir is located in Malaysia.\n"
     ]
    }
   ],
   "source": [
    "res_A.situated()"
   ]
  },
  {
   "cell_type": "code",
   "execution_count": 155,
   "id": "authentic-boundary",
   "metadata": {},
   "outputs": [
    {
     "data": {
      "text/plain": [
       "0.25"
      ]
     },
     "execution_count": 155,
     "metadata": {},
     "output_type": "execute_result"
    }
   ],
   "source": [
    "res_A.porosity"
   ]
  },
  {
   "cell_type": "code",
   "execution_count": 144,
   "id": "specified-rwanda",
   "metadata": {},
   "outputs": [],
   "source": [
    "class Tight_Reservoir():\n",
    "    \n",
    "    def __init__(self, av_poro, av_perm, location, stimulation):\n",
    "        self.porosity = av_poro\n",
    "        self.permeability = av_perm\n",
    "        self.location = location\n",
    "        self.stimulation = stimulation\n",
    "    \n",
    "    def describe(self):\n",
    "        print(f'Porosity: {self.porosity} and Permeability: {self.permeability} md.')\n",
    "        \n",
    "    def situated(self):\n",
    "        print(f'This reservoir is located in {self.location}.')\n",
    "        \n",
    "    def stimul(self):\n",
    "        if self.stimulation == 'Yes':\n",
    "            print('Ok')\n",
    "        else:\n",
    "            print('Not ok')"
   ]
  },
  {
   "cell_type": "code",
   "execution_count": 145,
   "id": "considered-lesson",
   "metadata": {},
   "outputs": [],
   "source": [
    "res_B = Tight_Reservoir(0.32, 92, 'Malaysia', 'Yes')"
   ]
  },
  {
   "cell_type": "code",
   "execution_count": 146,
   "id": "small-place",
   "metadata": {},
   "outputs": [
    {
     "name": "stdout",
     "output_type": "stream",
     "text": [
      "Ok\n"
     ]
    }
   ],
   "source": [
    "res_B.stimul()"
   ]
  },
  {
   "cell_type": "code",
   "execution_count": 147,
   "id": "featured-syndication",
   "metadata": {},
   "outputs": [
    {
     "name": "stdout",
     "output_type": "stream",
     "text": [
      "This reservoir is located in Malaysia.\n"
     ]
    }
   ],
   "source": [
    "res_B.situated()"
   ]
  },
  {
   "cell_type": "markdown",
   "id": "caroline-calgary",
   "metadata": {},
   "source": [
    "# Inheritance-Part 2"
   ]
  },
  {
   "cell_type": "code",
   "execution_count": 148,
   "id": "starting-condition",
   "metadata": {},
   "outputs": [],
   "source": [
    "# With the help of inheritence, \n",
    "# while making Tight_Reservoir class we'll just write extra attributes in this class and all other attributes that are in Reservoir class \n",
    "# Reservoir is our base class or Parent Class\n",
    "# Tight Reservoir is our derived class or Child class "
   ]
  },
  {
   "cell_type": "code",
   "execution_count": 175,
   "id": "generous-martial",
   "metadata": {},
   "outputs": [],
   "source": [
    "class Reservoir:\n",
    "    def __init__(self, av_poro, av_perm, location):\n",
    "        self.porosity = av_poro\n",
    "        self.permeability = av_perm\n",
    "        self.location = location\n",
    "        \n",
    "    def describe(self):\n",
    "        print(f'Porosity: {self.porosity} and Permeability: {self.permeability}')\n",
    "        \n",
    "    def situated(self):\n",
    "        print(f'This reservoir is located in {self.location}.')"
   ]
  },
  {
   "cell_type": "code",
   "execution_count": 176,
   "id": "afraid-coaching",
   "metadata": {},
   "outputs": [],
   "source": [
    "# let's shorten this code using Inheritence\n",
    "# METHOD 1 \n",
    "\n",
    "# class Child class(Parent class):\n",
    "\n",
    "#   def __init__(self, all the atributes here):\n",
    "#      Parent class.__init__(attributes of parent class)\n",
    "\n",
    "#        then only define instance variable for child class\n",
    "\n",
    "class Tight_Reservoir(Reservoir):\n",
    "    \n",
    "    def __init__(self, av_por, av_perm, location, stimulation):\n",
    "        Reservoir.__init__(self, av_por, av_perm, location)\n",
    "        \n",
    "        self.stimulation = stimulation\n",
    "        \n",
    "    def stimul(self):\n",
    "        if self.stimulation == 'Acidizing':\n",
    "            print('Ok')\n",
    "        else:\n",
    "            print('What are the stimulation used?')"
   ]
  },
  {
   "cell_type": "code",
   "execution_count": 177,
   "id": "under-nickel",
   "metadata": {},
   "outputs": [],
   "source": [
    "res_A = Tight_Reservoir(0.19, 32, 'Vietnam', 'Fracking')"
   ]
  },
  {
   "cell_type": "code",
   "execution_count": 178,
   "id": "endless-dress",
   "metadata": {},
   "outputs": [
    {
     "data": {
      "text/plain": [
       "0.19"
      ]
     },
     "execution_count": 178,
     "metadata": {},
     "output_type": "execute_result"
    }
   ],
   "source": [
    "res_A.porosity"
   ]
  },
  {
   "cell_type": "code",
   "execution_count": 179,
   "id": "mediterranean-luther",
   "metadata": {},
   "outputs": [
    {
     "name": "stdout",
     "output_type": "stream",
     "text": [
      "Porosity: 0.19 and Permeability: 32\n"
     ]
    }
   ],
   "source": [
    "res_A.describe()"
   ]
  },
  {
   "cell_type": "code",
   "execution_count": 180,
   "id": "minimal-landing",
   "metadata": {},
   "outputs": [
    {
     "name": "stdout",
     "output_type": "stream",
     "text": [
      "This reservoir is located in Vietnam.\n"
     ]
    }
   ],
   "source": [
    "res_A.situated()"
   ]
  },
  {
   "cell_type": "code",
   "execution_count": 181,
   "id": "occupational-preserve",
   "metadata": {},
   "outputs": [
    {
     "name": "stdout",
     "output_type": "stream",
     "text": [
      "What are the stimulation used?\n"
     ]
    }
   ],
   "source": [
    "res_A.stimul()"
   ]
  },
  {
   "cell_type": "code",
   "execution_count": 189,
   "id": "mature-surprise",
   "metadata": {},
   "outputs": [],
   "source": [
    "# method 2 \n",
    "\n",
    "# class Child class(Parent class):\n",
    "\n",
    "#   def __init__(self, all the atributes here):\n",
    "# \n",
    "#      super().__init__(attributes of parent class) # no need to write self here\n",
    "\n",
    "#         then only define instance variable for child class\n",
    "\n",
    "\n",
    "class Tight_Reservoir(Reservoir):\n",
    "    def __init__(self, av_por, av_perm, location, stimulation):\n",
    "#         Reservoir.__init__(self, av_por, av_perm, location)\n",
    "        super().__init__(av_por, av_perm, location)\n",
    "    \n",
    "        self.stimulation = stimulation\n",
    "        \n",
    "    def stimul(self):\n",
    "        if self.stimulation == 'Acidizing':\n",
    "            print('Acidizing is a good stimulation')\n",
    "        else:\n",
    "            print('What are the stimulation used?')"
   ]
  },
  {
   "cell_type": "code",
   "execution_count": 190,
   "id": "liquid-tennis",
   "metadata": {},
   "outputs": [],
   "source": [
    "res_B = Tight_Reservoir(0.23, 23, 'Indonesia', 'Acidizing')"
   ]
  },
  {
   "cell_type": "code",
   "execution_count": 191,
   "id": "extended-polls",
   "metadata": {},
   "outputs": [
    {
     "name": "stdout",
     "output_type": "stream",
     "text": [
      "Acidizing is a good stimulation\n"
     ]
    }
   ],
   "source": [
    "res_B.stimul()"
   ]
  },
  {
   "cell_type": "code",
   "execution_count": 192,
   "id": "accessible-eligibility",
   "metadata": {},
   "outputs": [
    {
     "data": {
      "text/plain": [
       "'Indonesia'"
      ]
     },
     "execution_count": 192,
     "metadata": {},
     "output_type": "execute_result"
    }
   ],
   "source": [
    "res_B.location"
   ]
  },
  {
   "cell_type": "code",
   "execution_count": 193,
   "id": "interim-connectivity",
   "metadata": {},
   "outputs": [
    {
     "name": "stdout",
     "output_type": "stream",
     "text": [
      "Porosity: 0.23 and Permeability: 23\n"
     ]
    }
   ],
   "source": [
    "res_B.describe()"
   ]
  },
  {
   "cell_type": "code",
   "execution_count": 194,
   "id": "secret-validity",
   "metadata": {},
   "outputs": [],
   "source": [
    "res_C = Reservoir(0.40, 39, 'Malaysia')"
   ]
  },
  {
   "cell_type": "code",
   "execution_count": 195,
   "id": "combined-rhythm",
   "metadata": {},
   "outputs": [
    {
     "name": "stdout",
     "output_type": "stream",
     "text": [
      "This reservoir is located in Malaysia.\n"
     ]
    }
   ],
   "source": [
    "res_C.situated()"
   ]
  },
  {
   "cell_type": "code",
   "execution_count": 196,
   "id": "future-trailer",
   "metadata": {},
   "outputs": [
    {
     "data": {
      "text/plain": [
       "39"
      ]
     },
     "execution_count": 196,
     "metadata": {},
     "output_type": "execute_result"
    }
   ],
   "source": [
    "res_C.permeability"
   ]
  },
  {
   "cell_type": "markdown",
   "id": "fifteen-mileage",
   "metadata": {},
   "source": [
    "# Multilevel Inheritance"
   ]
  },
  {
   "cell_type": "markdown",
   "id": "substantial-camcorder",
   "metadata": {},
   "source": [
    "- n number of inheritance possible from one class\n",
    "- Multilevel inheritance"
   ]
  },
  {
   "cell_type": "code",
   "execution_count": 34,
   "id": "convenient-reserve",
   "metadata": {},
   "outputs": [],
   "source": [
    "# one more thing!\n",
    "\n",
    "# we can inheit as many classes we want\n",
    "\n",
    "class Reservoir:\n",
    "    def __init__(self, av_poro, av_perm, location):\n",
    "        self.porosity = av_poro\n",
    "        self.permeability = av_perm\n",
    "        self.location = location\n",
    "        \n",
    "    def describe(self):\n",
    "        print(f'Porosity: {self.porosity} and Permeability: {self.permeability}')\n",
    "        \n",
    "    def situated(self):\n",
    "        print(f'This reservoir is located in {self.location}.')"
   ]
  },
  {
   "cell_type": "code",
   "execution_count": 35,
   "id": "frank-optimization",
   "metadata": {},
   "outputs": [],
   "source": [
    "class Reservoir_2(Reservoir):\n",
    "    \n",
    "    def __init__(self, av_poro, av_perm, location, Pi, Pb):\n",
    "        super().__init__(av_poro, av_perm, location)\n",
    "        \n",
    "        self.initial_P = Pi\n",
    "        self.bubble_P = Pb\n",
    "        \n",
    "    def pressure(self):\n",
    "        return f'The Pi: {self.initial_P} and the Pb: {self.bubble_P}'"
   ]
  },
  {
   "cell_type": "code",
   "execution_count": 36,
   "id": "russian-counter",
   "metadata": {},
   "outputs": [],
   "source": [
    "a = Reservoir_2(0.26, 39, 'Malaysia', 4000, 3400)"
   ]
  },
  {
   "cell_type": "code",
   "execution_count": 37,
   "id": "grateful-policy",
   "metadata": {},
   "outputs": [
    {
     "name": "stdout",
     "output_type": "stream",
     "text": [
      "Porosity: 0.26 and Permeability: 39\n"
     ]
    }
   ],
   "source": [
    "a.describe()"
   ]
  },
  {
   "cell_type": "code",
   "execution_count": 38,
   "id": "postal-character",
   "metadata": {},
   "outputs": [
    {
     "data": {
      "text/plain": [
       "'The Pi: 4000 and the Pb: 3400'"
      ]
     },
     "execution_count": 38,
     "metadata": {},
     "output_type": "execute_result"
    }
   ],
   "source": [
    "a.pressure()"
   ]
  },
  {
   "cell_type": "code",
   "execution_count": 39,
   "id": "alternate-revision",
   "metadata": {},
   "outputs": [],
   "source": [
    "class Reservoir_3(Reservoir_2):\n",
    "    \n",
    "    def __init__(self, av_por, av_perm, location, Pi, Pb, Sw):\n",
    "        super().__init__(av_por, av_perm, location, Pi, Pb)\n",
    "    \n",
    "        self.water_sat = Sw\n",
    "        \n",
    "    def sat(self):\n",
    "        return f'Water saturation: {self.water_sat}'"
   ]
  },
  {
   "cell_type": "code",
   "execution_count": 40,
   "id": "reported-laptop",
   "metadata": {},
   "outputs": [],
   "source": [
    "b = Reservoir_3(0.23, 39, 'Malaysia', 4294, 3593, 0.3)"
   ]
  },
  {
   "cell_type": "code",
   "execution_count": 41,
   "id": "furnished-racing",
   "metadata": {},
   "outputs": [
    {
     "data": {
      "text/plain": [
       "3593"
      ]
     },
     "execution_count": 41,
     "metadata": {},
     "output_type": "execute_result"
    }
   ],
   "source": [
    "b.bubble_P"
   ]
  },
  {
   "cell_type": "code",
   "execution_count": 42,
   "id": "electrical-radar",
   "metadata": {},
   "outputs": [
    {
     "data": {
      "text/plain": [
       "'Water saturation: 0.3'"
      ]
     },
     "execution_count": 42,
     "metadata": {},
     "output_type": "execute_result"
    }
   ],
   "source": [
    "b.sat()"
   ]
  },
  {
   "cell_type": "code",
   "execution_count": 43,
   "id": "single-sheep",
   "metadata": {},
   "outputs": [],
   "source": [
    "# Reservoir = Grandfather\n",
    "# Reservoir_P = Father\n",
    "# Reservoir_sat = Child"
   ]
  },
  {
   "cell_type": "markdown",
   "id": "determined-election",
   "metadata": {},
   "source": [
    "## Method Resolution Order (MRO)"
   ]
  },
  {
   "cell_type": "code",
   "execution_count": 44,
   "id": "interested-chambers",
   "metadata": {},
   "outputs": [
    {
     "name": "stdout",
     "output_type": "stream",
     "text": [
      "Help on class Reservoir_3 in module __main__:\n",
      "\n",
      "class Reservoir_3(Reservoir_2)\n",
      " |  Reservoir_3(av_por, av_perm, location, Pi, Pb, Sw)\n",
      " |  \n",
      " |  Method resolution order:\n",
      " |      Reservoir_3\n",
      " |      Reservoir_2\n",
      " |      Reservoir\n",
      " |      builtins.object\n",
      " |  \n",
      " |  Methods defined here:\n",
      " |  \n",
      " |  __init__(self, av_por, av_perm, location, Pi, Pb, Sw)\n",
      " |      Initialize self.  See help(type(self)) for accurate signature.\n",
      " |  \n",
      " |  sat(self)\n",
      " |  \n",
      " |  ----------------------------------------------------------------------\n",
      " |  Methods inherited from Reservoir_2:\n",
      " |  \n",
      " |  pressure(self)\n",
      " |  \n",
      " |  ----------------------------------------------------------------------\n",
      " |  Methods inherited from Reservoir:\n",
      " |  \n",
      " |  describe(self)\n",
      " |  \n",
      " |  situated(self)\n",
      " |  \n",
      " |  ----------------------------------------------------------------------\n",
      " |  Data descriptors inherited from Reservoir:\n",
      " |  \n",
      " |  __dict__\n",
      " |      dictionary for instance variables (if defined)\n",
      " |  \n",
      " |  __weakref__\n",
      " |      list of weak references to the object (if defined)\n",
      "\n"
     ]
    }
   ],
   "source": [
    "# to see MRO, we use help function and class name\n",
    "\n",
    "# help(class_name)\n",
    "\n",
    "help(Reservoir_3)"
   ]
  },
  {
   "cell_type": "code",
   "execution_count": 45,
   "id": "creative-spain",
   "metadata": {},
   "outputs": [
    {
     "name": "stdout",
     "output_type": "stream",
     "text": [
      "Help on class Reservoir_2 in module __main__:\n",
      "\n",
      "class Reservoir_2(Reservoir)\n",
      " |  Reservoir_2(av_poro, av_perm, location, Pi, Pb)\n",
      " |  \n",
      " |  Method resolution order:\n",
      " |      Reservoir_2\n",
      " |      Reservoir\n",
      " |      builtins.object\n",
      " |  \n",
      " |  Methods defined here:\n",
      " |  \n",
      " |  __init__(self, av_poro, av_perm, location, Pi, Pb)\n",
      " |      Initialize self.  See help(type(self)) for accurate signature.\n",
      " |  \n",
      " |  pressure(self)\n",
      " |  \n",
      " |  ----------------------------------------------------------------------\n",
      " |  Methods inherited from Reservoir:\n",
      " |  \n",
      " |  describe(self)\n",
      " |  \n",
      " |  situated(self)\n",
      " |  \n",
      " |  ----------------------------------------------------------------------\n",
      " |  Data descriptors inherited from Reservoir:\n",
      " |  \n",
      " |  __dict__\n",
      " |      dictionary for instance variables (if defined)\n",
      " |  \n",
      " |  __weakref__\n",
      " |      list of weak references to the object (if defined)\n",
      "\n"
     ]
    }
   ],
   "source": [
    "help(Reservoir_2)"
   ]
  },
  {
   "cell_type": "markdown",
   "id": "timely-junior",
   "metadata": {},
   "source": [
    "# Polymorphism"
   ]
  },
  {
   "cell_type": "markdown",
   "id": "behind-kennedy",
   "metadata": {},
   "source": [
    "Method Overriding"
   ]
  },
  {
   "cell_type": "code",
   "execution_count": 52,
   "id": "aquatic-discharge",
   "metadata": {},
   "outputs": [],
   "source": [
    "class Reservoir:\n",
    "    def __init__(self, av_poro, av_perm, location):\n",
    "        self.porosity = av_poro\n",
    "        self.permeability = av_perm\n",
    "        self.location = location\n",
    "        \n",
    "    def describe(self):\n",
    "        print(f'Porosity: {self.porosity} and Permeability: {self.permeability}')\n",
    "        \n",
    "    def situated(self):\n",
    "        print(f'This reservoir is located in {self.location}.')"
   ]
  },
  {
   "cell_type": "code",
   "execution_count": 53,
   "id": "charged-harassment",
   "metadata": {},
   "outputs": [],
   "source": [
    "class Reservoir_2(Reservoir):\n",
    "    \n",
    "    def __init__(self, av_poro, av_perm, location, Pi, Pb):\n",
    "        super().__init__(av_poro, av_perm, location)\n",
    "        \n",
    "        self.initial_P = Pi\n",
    "        self.bubble_P = Pb\n",
    "        \n",
    "    def pressure(self):\n",
    "        return f'The Pi: {self.initial_P} and the Pb: {self.bubble_P}'"
   ]
  },
  {
   "cell_type": "code",
   "execution_count": 54,
   "id": "mobile-consultation",
   "metadata": {},
   "outputs": [],
   "source": [
    "class Reservoir_3(Reservoir_2):\n",
    "    \n",
    "    def __init__(self, av_por, av_perm, location, Pi, Pb, Sw):\n",
    "        super().__init__(av_por, av_perm, location, Pi, Pb)\n",
    "    \n",
    "        self.water_sat = Sw\n",
    "        \n",
    "    def sat(self):\n",
    "        return f'Water saturation: {self.water_sat}'\n",
    "    \n",
    "    def describe(self):\n",
    "        return f'Testing'"
   ]
  },
  {
   "cell_type": "code",
   "execution_count": 55,
   "id": "breeding-distributor",
   "metadata": {},
   "outputs": [],
   "source": [
    "# Polymorphism - having multiple forms of a single thing\n",
    "\n",
    "d = Reservoir(0.14, 52, 'Thailand')\n",
    "e = Reservoir_3(0.35, 74, 'UAE', 5000, 4500, 0.47)"
   ]
  },
  {
   "cell_type": "code",
   "execution_count": 56,
   "id": "prescribed-pattern",
   "metadata": {},
   "outputs": [
    {
     "name": "stdout",
     "output_type": "stream",
     "text": [
      "Porosity: 0.14 and Permeability: 52\n"
     ]
    }
   ],
   "source": [
    "d.describe()"
   ]
  },
  {
   "cell_type": "code",
   "execution_count": 58,
   "id": "invisible-scholar",
   "metadata": {},
   "outputs": [
    {
     "data": {
      "text/plain": [
       "'Testing'"
      ]
     },
     "execution_count": 58,
     "metadata": {},
     "output_type": "execute_result"
    }
   ],
   "source": [
    "e.describe()"
   ]
  },
  {
   "cell_type": "markdown",
   "id": "magnetic-mistress",
   "metadata": {},
   "source": [
    "isinstance method"
   ]
  },
  {
   "cell_type": "code",
   "execution_count": 69,
   "id": "gothic-evaluation",
   "metadata": {},
   "outputs": [
    {
     "data": {
      "text/plain": [
       "True"
      ]
     },
     "execution_count": 69,
     "metadata": {},
     "output_type": "execute_result"
    }
   ],
   "source": [
    "# checks whether our instance (object) of that class or not\n",
    "\n",
    "# always returns True or False (Boolen vales)\n",
    "\n",
    "# isinstance(object, class)\n",
    "\n",
    "\n",
    "isinstance(d, Reservoir)"
   ]
  },
  {
   "cell_type": "code",
   "execution_count": 65,
   "id": "hispanic-rescue",
   "metadata": {},
   "outputs": [
    {
     "data": {
      "text/plain": [
       "True"
      ]
     },
     "execution_count": 65,
     "metadata": {},
     "output_type": "execute_result"
    }
   ],
   "source": [
    "isinstance(e, Reservoir_3)"
   ]
  },
  {
   "cell_type": "markdown",
   "id": "intimate-structure",
   "metadata": {},
   "source": [
    "issubclass()"
   ]
  },
  {
   "cell_type": "code",
   "execution_count": 70,
   "id": "renewable-annex",
   "metadata": {},
   "outputs": [
    {
     "data": {
      "text/plain": [
       "True"
      ]
     },
     "execution_count": 70,
     "metadata": {},
     "output_type": "execute_result"
    }
   ],
   "source": [
    "# issubclass(subclass, class)\n",
    "\n",
    "issubclass(Reservoir_2, Reservoir)"
   ]
  },
  {
   "cell_type": "code",
   "execution_count": 72,
   "id": "passing-administrator",
   "metadata": {},
   "outputs": [
    {
     "data": {
      "text/plain": [
       "True"
      ]
     },
     "execution_count": 72,
     "metadata": {},
     "output_type": "execute_result"
    }
   ],
   "source": [
    "issubclass(Reservoir_3, Reservoir_2)"
   ]
  },
  {
   "cell_type": "markdown",
   "id": "delayed-motorcycle",
   "metadata": {},
   "source": [
    "# Example"
   ]
  },
  {
   "cell_type": "code",
   "execution_count": 229,
   "id": "similar-attendance",
   "metadata": {},
   "outputs": [],
   "source": [
    "class PVT_prop:\n",
    "    \n",
    "    def __init__(self, Yo, API):\n",
    "        self.Yo = Yo\n",
    "        self.API = API\n",
    "        \n",
    "    def API_oil(self):\n",
    "        API_oil = (141.5/self.Yo) - 131.5\n",
    "        return round(API_oil,1)\n",
    "\n",
    "    def sg_Oil(self):\n",
    "        Yo = 141.5/(self.API + 131.5)\n",
    "        return round(Yo, 3)"
   ]
  },
  {
   "cell_type": "code",
   "execution_count": 230,
   "id": "fleet-pantyhose",
   "metadata": {},
   "outputs": [],
   "source": [
    "oil_1 = PVT_prop(0.79, 42)"
   ]
  },
  {
   "cell_type": "code",
   "execution_count": 231,
   "id": "sweet-equation",
   "metadata": {},
   "outputs": [
    {
     "data": {
      "text/plain": [
       "0.816"
      ]
     },
     "execution_count": 231,
     "metadata": {},
     "output_type": "execute_result"
    }
   ],
   "source": [
    "oil_1.sg_Oil()"
   ]
  },
  {
   "cell_type": "code",
   "execution_count": 233,
   "id": "mounted-mumbai",
   "metadata": {},
   "outputs": [
    {
     "data": {
      "text/plain": [
       "47.6"
      ]
     },
     "execution_count": 233,
     "metadata": {},
     "output_type": "execute_result"
    }
   ],
   "source": [
    "oil_1.API_oil()"
   ]
  },
  {
   "cell_type": "code",
   "execution_count": 43,
   "id": "republican-brooks",
   "metadata": {},
   "outputs": [],
   "source": [
    "import numpy as np\n",
    "import math"
   ]
  },
  {
   "cell_type": "code",
   "execution_count": 71,
   "id": "cooked-mechanism",
   "metadata": {},
   "outputs": [],
   "source": [
    "# Combine Correlation\n",
    "class Solubility:\n",
    "    \n",
    "    def __init__(self, Temp, Pres, sg_gas, API, Tsep, Psep):\n",
    "        \n",
    "        self.T = Temp\n",
    "        self.P = Pres\n",
    "        self.Yg = sg_gas \n",
    "        self.API = API\n",
    "        self.Tsep = Tsep\n",
    "        self.Psep = Psep\n",
    "        \n",
    "    def standing_Rs(self):\n",
    "        x = float(0.0125*self.API - 0.00091*(self.T-460))\n",
    "        Rs = float(self.Yg*(((self.P/18.2 + 1.4)*(10**x))**1.2048))\n",
    "        return f'The value of x: {round(x,2)} and Rs from Standing: {round(Rs)}'\n",
    "    \n",
    "    def beggs_Rs(self):\n",
    "        \n",
    "        if self.API <= 30:\n",
    "            C1 = 0.362\n",
    "            C2 = 1.0937\n",
    "            C3 = 25.7240\n",
    "        elif self.API > 30:\n",
    "            C1 = 0.0178\n",
    "            C2 = 1.1870\n",
    "            C3 = 23.931     \n",
    "       \n",
    "        Ygs = self.Yg*(1 + 5.912*(10**-5)*(self.API)*(self.Tsep - 460)*np.log10(self.Psep/114.7))\n",
    "        Rs = C1*Ygs*(self.P**C2)*np.exp(C3*(self.API/self.T))\n",
    "        return f'The value for Ygs: {round(Ygs, 2)} and Rs from Beggs: {round(Rs)}'\n",
    "    \n",
    "    def glaso_Rs(self):\n",
    "        X = 2.8869 - (14.1811 - 3.3093*np.log10(self.P))**0.5\n",
    "        A = 10**X\n",
    "        Rs = self.Yg*((((self.API**0.989)/((self.T - 460)**0.172))*A)**1.2255)\n",
    "        return f'The value for X: {round(X, 3)}, A: {round(A, 3)} and Rs from Glaso: {round(Rs)}'"
   ]
  },
  {
   "cell_type": "code",
   "execution_count": 72,
   "id": "specialized-massachusetts",
   "metadata": {},
   "outputs": [],
   "source": [
    "oil_2 = Solubility(710, 2377, 0.851, 47.1, 0, 0)"
   ]
  },
  {
   "cell_type": "code",
   "execution_count": 73,
   "id": "disciplinary-space",
   "metadata": {},
   "outputs": [
    {
     "data": {
      "text/plain": [
       "'The value of x: 0.36 and Rs from Standing: 832'"
      ]
     },
     "execution_count": 73,
     "metadata": {},
     "output_type": "execute_result"
    }
   ],
   "source": [
    "oil_2.standing_Rs()"
   ]
  },
  {
   "cell_type": "code",
   "execution_count": 76,
   "id": "color-editor",
   "metadata": {},
   "outputs": [
    {
     "data": {
      "text/plain": [
       "'The value for X: 1.152, A: 14.201 and Rs from Glaso: 732'"
      ]
     },
     "execution_count": 76,
     "metadata": {},
     "output_type": "execute_result"
    }
   ],
   "source": [
    "oil_2.glaso_Rs()"
   ]
  },
  {
   "cell_type": "code",
   "execution_count": 456,
   "id": "progressive-international",
   "metadata": {},
   "outputs": [],
   "source": [
    "# Beggs Correlation\n",
    "class Solubility_2:\n",
    "    \n",
    "    def __init__(self, Temp, Pres, sg_gas, API, Tsep, Psep):\n",
    "        \n",
    "        self.T = Temp\n",
    "        self.P = Pres\n",
    "        self.Yg = sg_gas \n",
    "        self.API = API\n",
    "        self.Tsep = Tsep\n",
    "        self.Psep = Psep\n",
    "        \n",
    "    def beggs_Rs(self):\n",
    "        \n",
    "        if self.API <= 30:\n",
    "            C1 = 0.362\n",
    "            C2 = 1.0937\n",
    "            C3 = 25.7240\n",
    "        elif self.API > 30:\n",
    "            C1 = 0.0178\n",
    "            C2 = 1.1870\n",
    "            C3 = 23.931     \n",
    "       \n",
    "        Ygs = self.Yg*(1 + 5.912*(10**-5)*(self.API)*(self.Tsep - 460)*math.log(self.Psep/114.7))\n",
    "        Rs = C1*Ygs*(self.P**C2)*math.exp(C3*(self.API/self.T))\n",
    "        return f'The value for Ygs: {round(Ygs, 2)} and Rs from Beggs: {round(Rs)}'"
   ]
  },
  {
   "cell_type": "code",
   "execution_count": 48,
   "id": "stretch-sperm",
   "metadata": {},
   "outputs": [],
   "source": [
    "oil_3 = Solubility(680, 2620, 0.855, 40.7, 535, 100)"
   ]
  },
  {
   "cell_type": "code",
   "execution_count": 49,
   "id": "vertical-probability",
   "metadata": {},
   "outputs": [
    {
     "data": {
      "text/plain": [
       "40.7"
      ]
     },
     "execution_count": 49,
     "metadata": {},
     "output_type": "execute_result"
    }
   ],
   "source": [
    "oil_3.API"
   ]
  },
  {
   "cell_type": "code",
   "execution_count": 50,
   "id": "urban-removal",
   "metadata": {},
   "outputs": [
    {
     "data": {
      "text/plain": [
       "'The value for Ygs: 0.83 and Rs from Beggs: 710'"
      ]
     },
     "execution_count": 50,
     "metadata": {},
     "output_type": "execute_result"
    }
   ],
   "source": [
    "oil_3.beggs_Rs()"
   ]
  },
  {
   "cell_type": "code",
   "execution_count": 64,
   "id": "headed-swift",
   "metadata": {},
   "outputs": [],
   "source": [
    "# Glaso Correlation\n",
    "# class Solubility_3:\n",
    "    \n",
    "#     def __init__(self, Temp, Pres, sg_gas, API):\n",
    "    \n",
    "#         self.T = Temp\n",
    "#         self.P = Pres\n",
    "#         self.Yg = sg_gas \n",
    "#         self.API = API    \n",
    "\n",
    "#     def glaso_Rs(self):\n",
    "#         X = 2.8869 - (14.1811 - 3.3093*np.log10(self.P))**0.5\n",
    "#         A = 10**X\n",
    "#         Rs = self.Yg*((((self.API**0.989)/((self.T - 460)**0.172))*A)**1.2255)\n",
    "#         return f'The value for X: {round(X, 3)}, A: {round(A, 3)} and Rs from Glaso: {round(Rs)}'"
   ]
  },
  {
   "cell_type": "code",
   "execution_count": 65,
   "id": "computational-meeting",
   "metadata": {},
   "outputs": [],
   "source": [
    "# oil_4 = Solubility_3(710, 2377, 0.851, 47.1)"
   ]
  },
  {
   "cell_type": "code",
   "execution_count": 77,
   "id": "municipal-rider",
   "metadata": {},
   "outputs": [],
   "source": [
    "# oil_4.glaso_Rs()"
   ]
  },
  {
   "cell_type": "code",
   "execution_count": 416,
   "id": "saved-doctor",
   "metadata": {},
   "outputs": [],
   "source": [
    "# Using OOP to find log and exponential of a number\n",
    "class Test:\n",
    "    \n",
    "    def __init__(self, num):\n",
    "        \n",
    "        self.num = num\n",
    "        \n",
    "    def find_log(self):\n",
    "        ans = math.log10(self.num)\n",
    "        return ans\n",
    "    \n",
    "    def find_exp(self):\n",
    "        ans = math.exp(self.num)\n",
    "        return ans"
   ]
  },
  {
   "cell_type": "code",
   "execution_count": 324,
   "id": "binding-identification",
   "metadata": {},
   "outputs": [],
   "source": [
    "test_1 = Test(10)"
   ]
  },
  {
   "cell_type": "code",
   "execution_count": 325,
   "id": "purple-reggae",
   "metadata": {},
   "outputs": [
    {
     "data": {
      "text/plain": [
       "1.0"
      ]
     },
     "execution_count": 325,
     "metadata": {},
     "output_type": "execute_result"
    }
   ],
   "source": [
    "test_1.find_log()"
   ]
  },
  {
   "cell_type": "code",
   "execution_count": 326,
   "id": "casual-planner",
   "metadata": {},
   "outputs": [
    {
     "data": {
      "text/plain": [
       "22026.465794806718"
      ]
     },
     "execution_count": 326,
     "metadata": {},
     "output_type": "execute_result"
    }
   ],
   "source": [
    "test_1.find_exp()"
   ]
  }
 ],
 "metadata": {
  "kernelspec": {
   "display_name": "Python 3",
   "language": "python",
   "name": "python3"
  },
  "language_info": {
   "codemirror_mode": {
    "name": "ipython",
    "version": 3
   },
   "file_extension": ".py",
   "mimetype": "text/x-python",
   "name": "python",
   "nbconvert_exporter": "python",
   "pygments_lexer": "ipython3",
   "version": "3.8.3"
  }
 },
 "nbformat": 4,
 "nbformat_minor": 5
}
